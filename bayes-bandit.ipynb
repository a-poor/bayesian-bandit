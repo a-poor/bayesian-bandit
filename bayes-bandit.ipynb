{
 "cells": [
  {
   "cell_type": "markdown",
   "metadata": {},
   "source": [
    "# Bayesian Modeling of a 1-Armed Bandit\n",
    "\n",
    "_created by Austin Poor_\n",
    "\n",
    "Using [`pystan`](https://mc-stan.org/) to model the probability of success from a random black-box 1-armed-bandit (a simplified version of the [multi-armed bandit problem](https://en.wikipedia.org/wiki/Multi-armed_bandit)).\n",
    "\n",
    "The file [bandit.py](./bandit.py) has code for the \"black-box\", 1-armed bandit."
   ]
  },
  {
   "cell_type": "code",
   "execution_count": 1,
   "metadata": {},
   "outputs": [],
   "source": [
    "!pip install -qr requirements.txt"
   ]
  },
  {
   "cell_type": "code",
   "execution_count": 2,
   "metadata": {},
   "outputs": [],
   "source": [
    "import numpy as np\n",
    "import matplotlib.pyplot as plt\n",
    "%matplotlib inline\n",
    "\n",
    "import pystan\n",
    "import arviz as az\n",
    "\n",
    "import bandit"
   ]
  },
  {
   "cell_type": "code",
   "execution_count": 3,
   "metadata": {},
   "outputs": [],
   "source": [
    "# Supress extraneous pystan info\n",
    "import logging\n",
    "logging.getLogger(\"pystan\").setLevel(\"ERROR\")"
   ]
  },
  {
   "cell_type": "code",
   "execution_count": 4,
   "metadata": {},
   "outputs": [],
   "source": [
    "# Set seed for reproducability\n",
    "np.random.seed(0)"
   ]
  },
  {
   "cell_type": "markdown",
   "metadata": {},
   "source": [
    "Create a `Bandit` object (from [bandit.py](./bandit.py)) that will pick a random $p$ value, between `0.0` and `1.0`, to define the 1-armed bandit's probability of success."
   ]
  },
  {
   "cell_type": "code",
   "execution_count": 5,
   "metadata": {},
   "outputs": [
    {
     "data": {
      "text/plain": [
       "<One-Armed-Bandit::f0x7ff26c5a74f0>"
      ]
     },
     "execution_count": 5,
     "metadata": {},
     "output_type": "execute_result"
    }
   ],
   "source": [
    "band = bandit.Bandit()\n",
    "band"
   ]
  },
  {
   "cell_type": "markdown",
   "metadata": {},
   "source": [
    "Define the number of observations to perform, which will be used to model the hidden $p$ value, then get the observations from the `Bandit` object."
   ]
  },
  {
   "cell_type": "code",
   "execution_count": 6,
   "metadata": {},
   "outputs": [],
   "source": [
    "n_obs = 1_000"
   ]
  },
  {
   "cell_type": "code",
   "execution_count": 7,
   "metadata": {},
   "outputs": [
    {
     "name": "stdout",
     "output_type": "stream",
     "text": [
      "observed win % = 0.5370\n",
      "real val of p  = 0.5488\n"
     ]
    }
   ],
   "source": [
    "wins = band.draw(n_obs)\n",
    "\n",
    "# Print the proportion of successes compared to\n",
    "# the bandit's *secret* p-value.\n",
    "print(f\"observed win % = {wins / n_obs:.4f}\")\n",
    "print(f\"real val of p  = {band._p:.4f}\")"
   ]
  },
  {
   "cell_type": "markdown",
   "metadata": {},
   "source": [
    "Define and compile the `pystan` model.\n",
    "\n",
    "Our observed data (number of trials and number of successes) are defined in the `data` block. The `parameters` block has the unknown $p$ value, which we're trying to predict. The `model` block tells stan how to link the `data` and the `parameters`.\n",
    "\n",
    "(For more info on defining models in stan, see the [documentation](https://mc-stan.org/users/documentation/).)"
   ]
  },
  {
   "cell_type": "code",
   "execution_count": 8,
   "metadata": {},
   "outputs": [],
   "source": [
    "bandit_model = \"\"\"\n",
    "data {\n",
    "    int n_obs;\n",
    "    int wins;\n",
    "}\n",
    "\n",
    "parameters {\n",
    "    real<lower=0, upper=1.0> p;\n",
    "}\n",
    "\n",
    "model {\n",
    "    wins ~ binomial(n_obs,p);\n",
    "}\n",
    "\"\"\""
   ]
  },
  {
   "cell_type": "code",
   "execution_count": 9,
   "metadata": {},
   "outputs": [],
   "source": [
    "model = pystan.StanModel(model_code=bandit_model)"
   ]
  },
  {
   "cell_type": "markdown",
   "metadata": {},
   "source": [
    "Fit the `pystan` model by passing it the values for the `data` block. Then show the results of the fitted model."
   ]
  },
  {
   "cell_type": "code",
   "execution_count": 10,
   "metadata": {},
   "outputs": [
    {
     "data": {
      "text/plain": [
       "Inference for Stan model: anon_model_485bc3b3ce9bdbdee788e5b3d377c5b1.\n",
       "4 chains, each with iter=2000; warmup=1000; thin=1; \n",
       "post-warmup draws per chain=1000, total post-warmup draws=4000.\n",
       "\n",
       "       mean se_mean     sd   2.5%    25%    50%    75%  97.5%  n_eff   Rhat\n",
       "p      0.54  4.2e-4   0.02    0.5   0.53   0.54   0.55   0.57   1573    1.0\n",
       "lp__ -692.3    0.02   0.76 -694.6 -692.5 -692.0 -691.8 -691.8   1352    1.0\n",
       "\n",
       "Samples were drawn using NUTS at Wed Sep  9 18:25:18 2020.\n",
       "For each parameter, n_eff is a crude measure of effective sample size,\n",
       "and Rhat is the potential scale reduction factor on split chains (at \n",
       "convergence, Rhat=1)."
      ]
     },
     "execution_count": 10,
     "metadata": {},
     "output_type": "execute_result"
    }
   ],
   "source": [
    "fit = model.sampling(\n",
    "    data={\n",
    "        \"n_obs\": n_obs,\n",
    "        \"wins\":  wins\n",
    "    }\n",
    ")\n",
    "fit"
   ]
  },
  {
   "cell_type": "markdown",
   "metadata": {},
   "source": [
    "Examining the model results shows a mean $p$-value estimate of about `0.54` -- which is not too far off from the real, *hidden* $p$-value of `0.5488`. \n",
    "\n",
    "Now plot the posterior densities, a 94% [Highest Density Interval](https://www.sciencedirect.com/topics/mathematics/highest-density-interval), and show the real, *hidden* $p$-value."
   ]
  },
  {
   "cell_type": "code",
   "execution_count": 11,
   "metadata": {},
   "outputs": [
    {
     "data": {
      "image/png": "[encoded data removed]",
      "text/plain": [
       "<Figure size 432x288 with 1 Axes>"
      ]
     },
     "metadata": {
      "needs_background": "light"
     },
     "output_type": "display_data"
    }
   ],
   "source": [
    "ax = az.plot_posterior(fit)\n",
    "ymin, ymax = ax[0].get_ylim()\n",
    "plt.vlines(band._p,0,ymax,alpha=0.3)\n",
    "plt.annotate(\n",
    "    f\"real $p = {band._p:.4f}$\",\n",
    "    (band._p,ymax),\n",
    "    (band._p*1.01,ymax*0.98),\n",
    "    arrowprops={\"arrowstyle\":\"->\"},\n",
    "    horizontalalignment=\"left\"\n",
    ")\n",
    "plt.title(\"\");"
   ]
  },
  {
   "cell_type": "markdown",
   "metadata": {},
   "source": [
    "Create a KDE plot for the $p$ value estimates."
   ]
  },
  {
   "cell_type": "code",
   "execution_count": 12,
   "metadata": {},
   "outputs": [
    {
     "data": {
      "image/png": "[encoded data removed]",
      "text/plain": [
       "<Figure size 432x288 with 1 Axes>"
      ]
     },
     "metadata": {
      "needs_background": "light"
     },
     "output_type": "display_data"
    }
   ],
   "source": [
    "az.plot_density(fit)\n",
    "ymin, ymax = ax[0].get_ylim()\n",
    "plt.vlines(band._p,0,ymax,alpha=0.5)\n",
    "plt.annotate(\n",
    "    f\"real $p = {band._p:.4f}$\",\n",
    "    (band._p,ymax),\n",
    "    (band._p*1.01,ymax*0.98),\n",
    "    arrowprops={\"arrowstyle\":\"->\"},\n",
    "    horizontalalignment=\"left\"\n",
    ")\n",
    "plt.title(\"\");"
   ]
  },
  {
   "cell_type": "code",
   "execution_count": null,
   "metadata": {},
   "outputs": [],
   "source": []
  }
 ],
 "metadata": {
  "kernelspec": {
   "display_name": "Python 3",
   "language": "python",
   "name": "python3"
  },
  "language_info": {
   "codemirror_mode": {
    "name": "ipython",
    "version": 3
   },
   "file_extension": ".py",
   "mimetype": "text/x-python",
   "name": "python",
   "nbconvert_exporter": "python",
   "pygments_lexer": "ipython3",
   "version": "3.8.5"
  }
 },
 "nbformat": 4,
 "nbformat_minor": 4
}
